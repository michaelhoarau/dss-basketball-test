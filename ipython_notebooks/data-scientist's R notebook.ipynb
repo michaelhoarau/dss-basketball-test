{
  "metadata": {
    "kernelspec": {
      "name": "ir",
      "display_name": "R",
      "language": "R"
    },
    "hide_input": false,
    "language_info": {
      "name": "R",
      "codemirror_mode": "r",
      "pygments_lexer": "r",
      "mimetype": "text/x-r-source",
      "file_extension": ".r",
      "version": "4.3.2"
    },
    "createdOn": 1720600538168,
    "customFields": {},
    "tags": [],
    "creator": "data-scientist",
    "modifiedBy": "data-scientist"
  },
  "nbformat": 4,
  "nbformat_minor": 1,
  "cells": [
    {
      "execution_count": 0,
      "cell_type": "code",
      "metadata": {},
      "source": [
        "library(dataiku)\nlibrary(dplyr)\n\ndf \u003c- dkuReadDataset(\"Basketball_nScores\", samplingMethod\u003d\"head\", nbRows\u003d100000)\n\ndf2 \u003c- df %\u003e% group_by(Year) %\u003e% summarise(Value \u003d max(zTOT))\n\nplot(df2, type\u003d\"l\")"
      ],
      "outputs": []
    },
    {
      "execution_count": 0,
      "cell_type": "code",
      "metadata": {},
      "source": [
        ""
      ],
      "outputs": []
    }
  ]
}