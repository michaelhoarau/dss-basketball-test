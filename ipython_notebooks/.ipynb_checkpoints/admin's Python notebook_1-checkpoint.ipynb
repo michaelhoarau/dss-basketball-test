{
 "cells": [
  {
   "cell_type": "code",
   "execution_count": 0,
   "metadata": {},
   "outputs": [],
   "source": [
    "%pylab inline"
   ]
  },
  {
   "cell_type": "code",
   "execution_count": 7,
   "metadata": {},
   "outputs": [
    {
     "name": "stdout",
     "output_type": "stream",
     "text": [
      "-2.76056356758\n"
     ]
    }
   ],
   "source": [
    "import dataikuapi\n",
    "\n",
    "client = dataikuapi.APINodeClient(\"http://localhost:13000\", \"bball\")\n",
    "\n",
    "record_to_predict = {\n",
    "    \"Player\": \"dante cunningham\",\n",
    "    \"Exp\": 8,\n",
    "    \"Year\": 2018,\n",
    "    \"Pos\": \"SF\",\n",
    "    \"Age\": 30,\n",
    "    \"Tm\": \"TOT\",\n",
    "    \"G\": 73,\n",
    "    \"Injury\": \"Minor\",\n",
    "    \"GS\": 25,\n",
    "    \"MP\": 21.4,\n",
    "    \"FGP\": 0.451,\n",
    "    \"3P\": 0.8,\n",
    "    \"FTP\": 0.596,\n",
    "    \"TRB\": 4.1,\n",
    "    \"AST\": 0.7,\n",
    "    \"STL\": 0.5,\n",
    "    \"BLK\": 0.4,\n",
    "    \"TO\": 0.5,\n",
    "    \"PTS\": 5.7,\n",
    "    \"zFG\": 0.0512152133580715,\n",
    "    \"zFT\": -0.06322727272727267,\n",
    "    \"z3P\": -0.015221885554743693,\n",
    "    \"zTRB\": 0.29684216173701317,\n",
    "    \"zAST\": -0.6483301092604422,\n",
    "    \"zSTL\": -0.2629329354319941,\n",
    "    \"zBLK\": 0.07502589261077627,\n",
    "    \"zTO\": -0.7267314485617125,\n",
    "    \"zPTS\": -0.4153710547274452,\n",
    "    \"zTOT\": -1.7087314385577494,\n",
    "    \"nFG\": 0.025681867173089276,\n",
    "    \"nFT\": -0.027880062822519827,\n",
    "    \"n3P\": -0.003457602724508082,\n",
    "    \"nTRB\": 0.05471130685941119,\n",
    "    \"nAST\": -0.12676121351767766,\n",
    "    \"nSTL\": -0.06445942992718447,\n",
    "    \"nBLK\": 0.012254238240782403,\n",
    "    \"nTO\": -0.14753561001863738,\n",
    "    \"nPTS\": -0.10711841036192192,\n",
    "    \"nTot\": -0.3845649170991665,\n",
    "    \"Tm_Switch\": 'false'\n",
    "}\n",
    "prediction = client.predict_record(\"bball\", record_to_predict)\n",
    "\n",
    "prediction=prediction[\"result\"][\"prediction\"]\n",
    "\n",
    "score=\n",
    "\n",
    "print(prediction[\"result\"][\"prediction\"])\n"
   ]
  },
  {
   "cell_type": "code",
   "execution_count": 0,
   "metadata": {},
   "outputs": [],
   "source": [
    "# Example: load a DSS dataset as a Pandas dataframe\n",
    "mydataset = dataiku.Dataset(\"mydataset\")\n",
    "mydataset_df = mydataset.get_dataframe()"
   ]
  },
  {
   "cell_type": "code",
   "execution_count": 0,
   "metadata": {},
   "outputs": [],
   "source": []
  }
 ],
 "metadata": {
  "creator": "admin",
  "kernelspec": {
   "display_name": "Python 2",
   "language": "python",
   "name": "python2"
  },
  "language_info": {
   "codemirror_mode": {
    "name": "ipython",
    "version": 2
   },
   "file_extension": ".py",
   "mimetype": "text/x-python",
   "name": "python",
   "nbconvert_exporter": "python",
   "pygments_lexer": "ipython2",
   "version": "2.7.10"
  },
  "tags": []
 },
 "nbformat": 4,
 "nbformat_minor": 1
}
