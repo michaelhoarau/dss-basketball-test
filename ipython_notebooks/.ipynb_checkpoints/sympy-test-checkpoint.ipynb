{
  "metadata": {
    "kernelspec": {
      "name": "py-dku-venv-python-code-env-sympy",
      "display_name": "Python (env python-code-env-sympy)",
      "language": "python"
    },
    "hide_input": false,
    "language_info": {
      "name": "python",
      "version": "3.9.16",
      "mimetype": "text/x-python",
      "codemirror_mode": {
        "name": "ipython",
        "version": 3
      },
      "pygments_lexer": "ipython3",
      "nbconvert_exporter": "python",
      "file_extension": ".py"
    },
    "createdOn": 1722584177293,
    "customFields": {},
    "creator": "data-scientist",
    "tags": [],
    "modifiedBy": "data-scientist"
  },
  "nbformat": 4,
  "nbformat_minor": 1,
  "cells": [
    {
      "execution_count": 0,
      "cell_type": "code",
      "metadata": {},
      "source": [
        "from sympy import *\n\nfrom sympy.interactive import printing\nprinting.init_printing(use_latex\u003dTrue)\n\nx, y \u003d symbols(\u0027x y\u0027)\nexpr \u003d x + 2*y\ndisplay (expr)\n\ndisplay(integrate(exp(x)*sin(x) + exp(x)*cos(x), x))\n\ndisplay(integrate(sin(x**2), (x, -oo, oo)))\n\ndisplay(limit(sin(x)/x, x, 0))\n\ndisplay(solve(x**2 - 2, x))"
      ],
      "outputs": []
    },
    {
      "execution_count": 0,
      "cell_type": "code",
      "metadata": {},
      "source": [
        "import sys\nprint(\"Python version: \", sys.version)\nassert 3 / 2 \u003d\u003d 1.5"
      ],
      "outputs": []
    }
  ]
}