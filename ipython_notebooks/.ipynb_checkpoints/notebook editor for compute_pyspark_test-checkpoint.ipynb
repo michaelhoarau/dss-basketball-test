{
 "cells": [
  {
   "cell_type": "code",
   "execution_count": 0,
   "metadata": {},
   "outputs": [],
   "source": [
    "# -*- coding: utf-8 -*-\n",
    "import dataiku\n",
    "from dataiku import spark as dkuspark\n",
    "from pyspark import SparkContext\n",
    "from pyspark.sql import SQLContext\n",
    "\n",
    "sc = SparkContext.getOrCreate()\n",
    "sqlContext = SQLContext(sc)\n",
    "\n",
    "# Read recipe inputs\n",
    "basketballStats = dataiku.Dataset(\"BasketballStats\")\n",
    "basketballStats_df = dkuspark.get_dataframe(sqlContext, basketballStats)\n",
    "\n",
    "# Compute recipe outputs from inputs\n",
    "# TODO: Replace this part by your actual code that computes the output, as a SparkSQL dataframe\n",
    "pyspark_test_df = basketballStats_df # For this sample code, simply copy input to output\n",
    "\n",
    "# Write recipe outputs\n",
    "pyspark_test = dataiku.Dataset(\"pyspark_test\")\n",
    "dkuspark.write_with_schema(pyspark_test, pyspark_test_df)"
   ]
  }
 ],
 "metadata": {
  "associatedRecipe": "compute_pyspark_test",
  "creator": "admin",
  "customFields": {},
  "kernelspec": {
   "display_name": "Python 2",
   "language": "python",
   "name": "python2"
  },
  "language_info": {
   "codemirror_mode": {
    "name": "ipython",
    "version": 2
   },
   "file_extension": ".py",
   "mimetype": "text/x-python",
   "name": "python",
   "nbconvert_exporter": "python",
   "pygments_lexer": "ipython2",
   "version": "2.7.10"
  },
  "tags": [
   "recipe-editor"
  ]
 },
 "nbformat": 4,
 "nbformat_minor": 1
}
