{
  "metadata": {
    "creator": "jordan",
    "customFields": {},
    "kernelspec": {
      "display_name": "Python 2",
      "language": "python",
      "name": "python2"
    },
    "language_info": {
      "codemirror_mode": {
        "name": "ipython",
        "version": 2
      },
      "file_extension": ".py",
      "mimetype": "text/x-python",
      "name": "python",
      "nbconvert_exporter": "python",
      "pygments_lexer": "ipython2",
      "version": "2.7.5"
    },
    "tags": []
  },
  "nbformat": 4,
  "nbformat_minor": 1,
  "cells": [
    {
      "execution_count": 0,
      "cell_type": "code",
      "metadata": {},
      "source": [
        "%pylab inline"
      ],
      "outputs": []
    },
    {
      "execution_count": 0,
      "cell_type": "code",
      "metadata": {},
      "source": [
        "import dataiku\n",
        "from dataiku import pandasutils as pdu\n",
        "import pandas as pd"
      ],
      "outputs": []
    },
    {
      "execution_count": 0,
      "cell_type": "code",
      "metadata": {},
      "source": [
        "# Example: load a DSS dataset as a Pandas dataframe\n",
        "mydataset \u003d dataiku.Dataset(\"Basketball_nScores\")\n",
        "df \u003d mydataset.get_dataframe()"
      ],
      "outputs": []
    },
    {
      "execution_count": 0,
      "cell_type": "code",
      "metadata": {},
      "source": [
        "\n",
        "pv \u003d pd.pivot_table(df, values\u003d\u0027Player\u0027, index\u003d[\u0027Age\u0027], columns\u003d[\u0027Injury\u0027], aggfunc\u003dnp.count_nonzero)\n",
        "pv[\u0027Total\u0027] \u003d pv[\u0027Intermediate\u0027] + pv[\u0027Major\u0027] + pv[\u0027Minor\u0027]\n",
        "for col in pv.columns: \n",
        "    pv[col] \u003d pv[col]/pv[\u0027Total\u0027]\n",
        "pv"
      ],
      "outputs": []
    },
    {
      "execution_count": 0,
      "cell_type": "code",
      "metadata": {},
      "source": [
        "import matplotlib\n",
        "\n",
        "plt \u003d matplotlib.pyplot\n",
        "\n",
        "plt.plot(pv.index.values,\u0027Minor\u0027,data\u003dpv)\n",
        "plt.plot(pv.index.values,\u0027Intermediate\u0027,data\u003dpv)\n",
        "plt.plot(pv.index.values,\u0027Major\u0027,data\u003dpv)\n",
        "plt.plot(pv.index.values,\u0027None\u0027,data\u003dpv)\n",
        "plt.legend()\n",
        "\n",
        "plt.show()"
      ],
      "outputs": []
    },
    {
      "execution_count": 0,
      "cell_type": "code",
      "metadata": {},
      "source": [],
      "outputs": []
    }
  ]
}