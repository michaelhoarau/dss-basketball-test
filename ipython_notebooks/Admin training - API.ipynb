{
  "metadata": {
    "kernelspec": {
      "name": "python3",
      "display_name": "Python 3",
      "language": "python"
    },
    "hide_input": false,
    "language_info": {
      "name": "python",
      "version": "3.9.16",
      "mimetype": "text/x-python",
      "codemirror_mode": {
        "name": "ipython",
        "version": 3
      },
      "pygments_lexer": "ipython3",
      "nbconvert_exporter": "python",
      "file_extension": ".py"
    },
    "creator": "admin",
    "createdOn": 1724314328728,
    "customFields": {},
    "modifiedBy": "admin",
    "tags": []
  },
  "nbformat": 4,
  "nbformat_minor": 1,
  "cells": [
    {
      "execution_count": 0,
      "cell_type": "code",
      "metadata": {},
      "source": [
        "import dataikuapi\nimport random\n\nclient \u003d dataikuapi.DSSClient(\"http://54.76.194.251:11000\", \"Y0xqaowlrXQLQMVSfUcad86IPumTfVXR\")\nproject_keys \u003d client.list_project_keys()\nproject_keys"
      ],
      "outputs": []
    },
    {
      "execution_count": 0,
      "cell_type": "code",
      "metadata": {},
      "source": [
        "import dataiku\nimport requests\nimport json\n\nclient \u003d dataiku.api_client()\ndss_projects \u003d client.list_project_keys()\n\ndss_projects"
      ],
      "outputs": []
    },
    {
      "execution_count": 0,
      "cell_type": "code",
      "metadata": {},
      "source": [
        "hostname \u003d \"http://54.76.194.251:11000\"\ndesign_api_key \u003d \"Y0xqaowlrXQLQMVSfUcad86IPumTfVXR\"\n\nfor project_key in dss_projects:\n    get_webapps \u003d f\"{hostname}/public/api/projects/{project_key}/webapps/\"\n    r \u003d requests.get(get_webapps, auth\u003d(design_api_key, \u0027\u0027))\n    if r.json():\n        print(f\u0027Checking if {project_key} has running webapps\u0027)\n        for wb in r.json():\n            get_webapp_id \u003d f\"{hostname}/public/api/projects/{project_key}/webapps/{wb[\u0027id\u0027]}\"\n            stop_webapp \u003d f\"{hostname}/public/api/projects/{project_key}/webapps/{wb[\u0027id\u0027]}/backend/actions/stop\"\n            r_stp \u003d requests.get(get_webapp_id, auth\u003d(design_api_key, \u0027\u0027))\n            if wb[\u0027backendRunning\u0027]:\n                #requests.put(stop_webapp,auth\u003d(design_api_key, \u0027\u0027))\n                print(f\"- stopped {wb[\u0027projectKey\u0027]}:{wb[\u0027name\u0027]}:{wb[\u0027id\u0027]} webapp\")"
      ],
      "outputs": []
    },
    {
      "execution_count": 0,
      "cell_type": "code",
      "metadata": {},
      "source": [
        "import dataiku\nimport requests\nimport json\n\n# Get a client and list of projects:\nclient \u003d dataiku.api_client()\ndss_projects \u003d client.list_project_keys()\n\n# Loops through all projects:\nfor project_key in dss_projects:\n    project \u003d client.get_project(project_key)\n    \n    # Get the webapps attached to this project and\n    # loops through them to stop all running backend:\n    project_webapps \u003d project.list_webapps()\n    if len(project_webapps) \u003e 0:\n        print(f\u0027Project {project_key} has running webapps:\u0027)\n        for webapp in project_webapps:\n            # Only target webapps with a running backend:\n            if webapp[\u0027backendRunning\u0027]:\n                webapp_id \u003d webapp[\u0027id\u0027]\n                webapp_name \u003d webapp[\u0027name\u0027]\n                webapp_handle \u003d project.get_webapp(webapp_id)\n                webapp_handle.stop_backend()\n                print(f\u0027 - Stopped {project_key}:{webapp_name}:{webapp_id} webapp\u0027)"
      ],
      "outputs": []
    },
    {
      "execution_count": 0,
      "cell_type": "code",
      "metadata": {},
      "source": [
        "import time"
      ],
      "outputs": []
    },
    {
      "execution_count": 0,
      "cell_type": "code",
      "metadata": {},
      "source": [
        "time.time()"
      ],
      "outputs": []
    },
    {
      "execution_count": 0,
      "cell_type": "code",
      "metadata": {},
      "source": [
        "webapp"
      ],
      "outputs": []
    },
    {
      "execution_count": 0,
      "cell_type": "code",
      "metadata": {},
      "source": [
        "webapp"
      ],
      "outputs": []
    },
    {
      "execution_count": 0,
      "cell_type": "code",
      "metadata": {},
      "source": [
        "import dataiku\nimport requests\nimport json\n\n# Get a client and list of projects:\nclient \u003d dataiku.api_client()\ndss_projects \u003d client.list_project_keys()\n\n# Loops through all projects:\nfor project_key in dss_projects:\n    project \u003d client.get_project(project_key)\n    \n    print(project_key)\n    # Get the Code Studios attached to this project and\n    # loops through them to stop all running tasks:\n    code_studios \u003d project.list_code_studios(as_type\u003d\"objects\")\n    if len(code_studios) \u003e 0:\n        print(f\u0027Project {project_key} has running code studios:\u0027)\n        \n        for cs in code_studios:\n            if (cs.get_status().state \u003d\u003d \"STOPPED\"):\n                \n        \n        print(\"\")"
      ],
      "outputs": []
    },
    {
      "execution_count": 0,
      "cell_type": "code",
      "metadata": {},
      "source": [
        "cs.stop()"
      ],
      "outputs": []
    },
    {
      "execution_count": 0,
      "cell_type": "code",
      "metadata": {},
      "source": [
        "# Loops through all projects:\nfor project_key in dss_projects:\n    project \u003d client.get_project(project_key)\n    \n    # Get the webapps attached to this project and\n    # loops through them to stop all running backend:\n    project_webapps \u003d project.list_code_studios()\n    if len(project_webapps) \u003e 0:\n        print(f\u0027Project {project_key} has running webapps:\u0027)\n        for webapp in project_webapps:\n            # Only target webapps with a running backend:\n            if webapp[\u0027backendRunning\u0027]:\n                webapp_id \u003d webapp[\u0027id\u0027]\n                webapp_name \u003d webapp[\u0027name\u0027]\n                webapp_handle \u003d project.get_webapp(webapp_id)\n                webapp_handle.stop_backend()\n                print(f\u0027 - Stopped {project_key}:{webapp_name}:{webapp_id} webapp\u0027)"
      ],
      "outputs": []
    }
  ]
}