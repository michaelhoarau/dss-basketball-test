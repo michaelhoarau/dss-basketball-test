{
  "metadata": {
    "kernelspec": {
      "name": "python3",
      "display_name": "Python 3",
      "language": "python"
    },
    "hide_input": false,
    "language_info": {
      "name": "python",
      "version": "3.9.16",
      "mimetype": "text/x-python",
      "codemirror_mode": {
        "name": "ipython",
        "version": 3
      },
      "pygments_lexer": "ipython3",
      "nbconvert_exporter": "python",
      "file_extension": ".py"
    },
    "modifiedBy": "data-scientist",
    "customFields": {},
    "createdOn": 1724314328728,
    "creator": "admin",
    "tags": []
  },
  "nbformat": 4,
  "nbformat_minor": 1,
  "cells": [
    {
      "execution_count": 0,
      "cell_type": "code",
      "metadata": {},
      "source": [
        "import dataikuapi\nimport random\n\nclient \u003d dataikuapi.DSSClient(\"http://54.76.194.251:11000\", \"Y0xqaowlrXQLQMVSfUcad86IPumTfVXR\")\nproject_keys \u003d client.list_project_keys()\nproject_keys"
      ],
      "outputs": []
    },
    {
      "execution_count": 0,
      "cell_type": "code",
      "metadata": {},
      "source": [
        "import dataikuapi\nimport random\n\nclient \u003d dataikuapi.DSSClient()\nproject_keys \u003d client.list_project_keys()\nproject_keys"
      ],
      "outputs": []
    },
    {
      "execution_count": 0,
      "cell_type": "code",
      "metadata": {},
      "source": [
        ""
      ],
      "outputs": []
    }
  ]
}